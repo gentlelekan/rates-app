{
 "cells": [
  {
   "cell_type": "markdown",
   "id": "536c4a53",
   "metadata": {},
   "source": [
    "# Rates Exploration"
   ]
  },
  {
   "cell_type": "code",
   "execution_count": null,
   "id": "2c423216",
   "metadata": {},
   "outputs": [],
   "source": [
    "Import os"
   ]
  },
  {
   "cell_type": "markdown",
   "id": "bd1cf679",
   "metadata": {},
   "source": [
    "#Data Ingestion"
   ]
  },
  {
   "cell_type": "code",
   "execution_count": null,
   "id": "76d73477",
   "metadata": {},
   "outputs": [],
   "source": [
    "main_path = os.getcwd()"
   ]
  },
  {
   "cell_type": "code",
   "execution_count": null,
   "id": "11723716",
   "metadata": {},
   "outputs": [],
   "source": []
  },
  {
   "cell_type": "code",
   "execution_count": null,
   "id": "90f53fa5",
   "metadata": {},
   "outputs": [],
   "source": []
  }
 ],
 "metadata": {
  "kernelspec": {
   "display_name": "Python 3 (ipykernel)",
   "language": "python",
   "name": "python3"
  },
  "language_info": {
   "codemirror_mode": {
    "name": "ipython",
    "version": 3
   },
   "file_extension": ".py",
   "mimetype": "text/x-python",
   "name": "python",
   "nbconvert_exporter": "python",
   "pygments_lexer": "ipython3",
   "version": "3.10.13"
  }
 },
 "nbformat": 4,
 "nbformat_minor": 5
}
